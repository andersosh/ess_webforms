{
 "cells": [
  {
   "cell_type": "code",
   "execution_count": 3,
   "metadata": {},
   "outputs": [
    {
     "name": "stdout",
     "output_type": "stream",
     "text": [
      "B\n",
      "1\n"
     ]
    }
   ],
   "source": [
    "from openpyxl import Workbook, load_workbook\n",
    "from openpyxl.utils import get_column_letter\n",
    "\n",
    "wb = Workbook()\n",
    "\n",
    "destination_filename = \"ESS_Purchase_request.xlsx\"\n",
    "\n",
    "ws1 = wb.active\n",
    "\n",
    "ws1.title = \"New Active Workbook\"\n",
    "\n",
    "for row in range(1,10):\n",
    "    ws1.append(range(100))\n",
    "\n",
    "ws2 = wb.create_sheet(title=\"Sheet two\")\n",
    "\n",
    "ws2[\"A5\"] = \"Some value here\"\n",
    "\n",
    "ws2[\"A5\"].value\n",
    "ws2[\"A5\"]\n",
    "ws1[\"C3\"].value\n",
    "\n",
    "another_worksheet = wb.create_sheet(title=\"Sheet three\")\n",
    "for row in range(1, 10):\n",
    "    for col in range(1, 10):\n",
    "        _ = another_worksheet.cell(column=col, row=row, value=\"{0}\".format(get_column_letter(col)))\n",
    "\n",
    "    \n",
    "print(another_worksheet[\"B5\"].value)\n",
    "\n",
    "\n",
    "wb.save(destination_filename)\n",
    "\n",
    "wb = load_workbook(\"ESS_Purchase_request.xlsx\")\n",
    "\n",
    "ws1 = wb[\"New Active Workbook\"]\n",
    "print(ws1[\"B1\"].value)\n",
    "\n",
    "\n",
    "\n",
    "wb.save(destination_filename)\n"
   ]
  },
  {
   "cell_type": "code",
   "execution_count": null,
   "metadata": {},
   "outputs": [],
   "source": []
  }
 ],
 "metadata": {
  "kernelspec": {
   "display_name": "Python 3 (ipykernel)",
   "language": "python",
   "name": "python3"
  },
  "language_info": {
   "codemirror_mode": {
    "name": "ipython",
    "version": 3
   },
   "file_extension": ".py",
   "mimetype": "text/x-python",
   "name": "python",
   "nbconvert_exporter": "python",
   "pygments_lexer": "ipython3",
   "version": "3.7.6"
  }
 },
 "nbformat": 4,
 "nbformat_minor": 4
}
